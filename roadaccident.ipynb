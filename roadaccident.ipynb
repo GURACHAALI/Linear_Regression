{
 "cells": [
  {
   "cell_type": "code",
   "execution_count": 1,
   "id": "d8e12ea1-abe1-4dff-bc11-cb6cb3a5cc63",
   "metadata": {},
   "outputs": [],
   "source": [
    "import pandas as pd\n",
    "from sklearn.model_selection import train_test_split\n",
    "from sklearn.linear_model import LinearRegression"
   ]
  },
  {
   "cell_type": "code",
   "execution_count": 2,
   "id": "7a3c99de-1e6d-42f1-8bb2-a5ab3a719b8a",
   "metadata": {},
   "outputs": [],
   "source": [
    "mydata = pd.read_csv('Documents/A semester 2.2/data science/ntsa.csv')"
   ]
  },
  {
   "cell_type": "code",
   "execution_count": 3,
   "id": "009dc0be-1324-4a2b-8570-df27f3861a7c",
   "metadata": {},
   "outputs": [
    {
     "data": {
      "text/html": [
       "<div>\n",
       "<style scoped>\n",
       "    .dataframe tbody tr th:only-of-type {\n",
       "        vertical-align: middle;\n",
       "    }\n",
       "\n",
       "    .dataframe tbody tr th {\n",
       "        vertical-align: top;\n",
       "    }\n",
       "\n",
       "    .dataframe thead th {\n",
       "        text-align: right;\n",
       "    }\n",
       "</style>\n",
       "<table border=\"1\" class=\"dataframe\">\n",
       "  <thead>\n",
       "    <tr style=\"text-align: right;\">\n",
       "      <th></th>\n",
       "      <th>id</th>\n",
       "      <th>victimClass</th>\n",
       "      <th>fill</th>\n",
       "      <th>fatalties</th>\n",
       "      <th>slightlyInjured</th>\n",
       "      <th>seriouslyInjured</th>\n",
       "      <th>addedon</th>\n",
       "    </tr>\n",
       "  </thead>\n",
       "  <tbody>\n",
       "    <tr>\n",
       "      <th>0</th>\n",
       "      <td>1</td>\n",
       "      <td>pedestrians</td>\n",
       "      <td>blue</td>\n",
       "      <td>184</td>\n",
       "      <td>45</td>\n",
       "      <td>196</td>\n",
       "      <td>2020-02-17</td>\n",
       "    </tr>\n",
       "    <tr>\n",
       "      <th>1</th>\n",
       "      <td>6</td>\n",
       "      <td>motor_cyclists</td>\n",
       "      <td>green</td>\n",
       "      <td>105</td>\n",
       "      <td>42</td>\n",
       "      <td>181</td>\n",
       "      <td>2020-02-17</td>\n",
       "    </tr>\n",
       "    <tr>\n",
       "      <th>2</th>\n",
       "      <td>3</td>\n",
       "      <td>passengers</td>\n",
       "      <td>orange</td>\n",
       "      <td>76</td>\n",
       "      <td>526</td>\n",
       "      <td>287</td>\n",
       "      <td>2020-02-17</td>\n",
       "    </tr>\n",
       "    <tr>\n",
       "      <th>3</th>\n",
       "      <td>4</td>\n",
       "      <td>pillion_passengers</td>\n",
       "      <td>purple</td>\n",
       "      <td>50</td>\n",
       "      <td>46</td>\n",
       "      <td>114</td>\n",
       "      <td>2020-02-17</td>\n",
       "    </tr>\n",
       "    <tr>\n",
       "      <th>4</th>\n",
       "      <td>2</td>\n",
       "      <td>drivers</td>\n",
       "      <td>red</td>\n",
       "      <td>34</td>\n",
       "      <td>51</td>\n",
       "      <td>91</td>\n",
       "      <td>2020-02-17</td>\n",
       "    </tr>\n",
       "    <tr>\n",
       "      <th>5</th>\n",
       "      <td>5</td>\n",
       "      <td>pedal_cyclists</td>\n",
       "      <td>brown</td>\n",
       "      <td>9</td>\n",
       "      <td>0</td>\n",
       "      <td>3</td>\n",
       "      <td>2020-02-17</td>\n",
       "    </tr>\n",
       "    <tr>\n",
       "      <th>6</th>\n",
       "      <td>7</td>\n",
       "      <td>pedestrians</td>\n",
       "      <td>blue</td>\n",
       "      <td>249</td>\n",
       "      <td>58</td>\n",
       "      <td>264</td>\n",
       "      <td>2020-03-04</td>\n",
       "    </tr>\n",
       "    <tr>\n",
       "      <th>7</th>\n",
       "      <td>12</td>\n",
       "      <td>motor_cyclists</td>\n",
       "      <td>green</td>\n",
       "      <td>138</td>\n",
       "      <td>52</td>\n",
       "      <td>268</td>\n",
       "      <td>2020-03-04</td>\n",
       "    </tr>\n",
       "    <tr>\n",
       "      <th>8</th>\n",
       "      <td>9</td>\n",
       "      <td>passengers</td>\n",
       "      <td>orange</td>\n",
       "      <td>94</td>\n",
       "      <td>742</td>\n",
       "      <td>409</td>\n",
       "      <td>2020-03-04</td>\n",
       "    </tr>\n",
       "    <tr>\n",
       "      <th>9</th>\n",
       "      <td>10</td>\n",
       "      <td>pillion_passengers</td>\n",
       "      <td>purple</td>\n",
       "      <td>63</td>\n",
       "      <td>69</td>\n",
       "      <td>165</td>\n",
       "      <td>2020-03-04</td>\n",
       "    </tr>\n",
       "    <tr>\n",
       "      <th>10</th>\n",
       "      <td>8</td>\n",
       "      <td>drivers</td>\n",
       "      <td>red</td>\n",
       "      <td>40</td>\n",
       "      <td>79</td>\n",
       "      <td>115</td>\n",
       "      <td>2020-03-04</td>\n",
       "    </tr>\n",
       "    <tr>\n",
       "      <th>11</th>\n",
       "      <td>11</td>\n",
       "      <td>pedal_cyclists</td>\n",
       "      <td>brown</td>\n",
       "      <td>11</td>\n",
       "      <td>2</td>\n",
       "      <td>9</td>\n",
       "      <td>2020-03-04</td>\n",
       "    </tr>\n",
       "    <tr>\n",
       "      <th>12</th>\n",
       "      <td>13</td>\n",
       "      <td>pedestrians</td>\n",
       "      <td>blue</td>\n",
       "      <td>390</td>\n",
       "      <td>104</td>\n",
       "      <td>439</td>\n",
       "      <td>2020-04-23</td>\n",
       "    </tr>\n",
       "    <tr>\n",
       "      <th>13</th>\n",
       "      <td>18</td>\n",
       "      <td>motor_cyclists</td>\n",
       "      <td>green</td>\n",
       "      <td>262</td>\n",
       "      <td>123</td>\n",
       "      <td>524</td>\n",
       "      <td>2020-04-23</td>\n",
       "    </tr>\n",
       "    <tr>\n",
       "      <th>14</th>\n",
       "      <td>15</td>\n",
       "      <td>passengers</td>\n",
       "      <td>orange</td>\n",
       "      <td>159</td>\n",
       "      <td>1136</td>\n",
       "      <td>614</td>\n",
       "      <td>2020-04-23</td>\n",
       "    </tr>\n",
       "    <tr>\n",
       "      <th>15</th>\n",
       "      <td>16</td>\n",
       "      <td>pillion_passengers</td>\n",
       "      <td>purple</td>\n",
       "      <td>107</td>\n",
       "      <td>130</td>\n",
       "      <td>320</td>\n",
       "      <td>2020-04-23</td>\n",
       "    </tr>\n",
       "    <tr>\n",
       "      <th>16</th>\n",
       "      <td>14</td>\n",
       "      <td>drivers</td>\n",
       "      <td>red</td>\n",
       "      <td>86</td>\n",
       "      <td>139</td>\n",
       "      <td>234</td>\n",
       "      <td>2020-04-23</td>\n",
       "    </tr>\n",
       "    <tr>\n",
       "      <th>17</th>\n",
       "      <td>17</td>\n",
       "      <td>pedal_cyclists</td>\n",
       "      <td>brown</td>\n",
       "      <td>18</td>\n",
       "      <td>3</td>\n",
       "      <td>21</td>\n",
       "      <td>2020-04-23</td>\n",
       "    </tr>\n",
       "  </tbody>\n",
       "</table>\n",
       "</div>"
      ],
      "text/plain": [
       "    id         victimClass    fill  fatalties  slightlyInjured  \\\n",
       "0    1         pedestrians    blue        184               45   \n",
       "1    6      motor_cyclists   green        105               42   \n",
       "2    3          passengers  orange         76              526   \n",
       "3    4  pillion_passengers  purple         50               46   \n",
       "4    2             drivers     red         34               51   \n",
       "5    5      pedal_cyclists   brown          9                0   \n",
       "6    7         pedestrians    blue        249               58   \n",
       "7   12      motor_cyclists   green        138               52   \n",
       "8    9          passengers  orange         94              742   \n",
       "9   10  pillion_passengers  purple         63               69   \n",
       "10   8             drivers     red         40               79   \n",
       "11  11      pedal_cyclists   brown         11                2   \n",
       "12  13         pedestrians    blue        390              104   \n",
       "13  18      motor_cyclists   green        262              123   \n",
       "14  15          passengers  orange        159             1136   \n",
       "15  16  pillion_passengers  purple        107              130   \n",
       "16  14             drivers     red         86              139   \n",
       "17  17      pedal_cyclists   brown         18                3   \n",
       "\n",
       "    seriouslyInjured     addedon  \n",
       "0                196  2020-02-17  \n",
       "1                181  2020-02-17  \n",
       "2                287  2020-02-17  \n",
       "3                114  2020-02-17  \n",
       "4                 91  2020-02-17  \n",
       "5                  3  2020-02-17  \n",
       "6                264  2020-03-04  \n",
       "7                268  2020-03-04  \n",
       "8                409  2020-03-04  \n",
       "9                165  2020-03-04  \n",
       "10               115  2020-03-04  \n",
       "11                 9  2020-03-04  \n",
       "12               439  2020-04-23  \n",
       "13               524  2020-04-23  \n",
       "14               614  2020-04-23  \n",
       "15               320  2020-04-23  \n",
       "16               234  2020-04-23  \n",
       "17                21  2020-04-23  "
      ]
     },
     "execution_count": 3,
     "metadata": {},
     "output_type": "execute_result"
    }
   ],
   "source": [
    "mydata\n"
   ]
  },
  {
   "cell_type": "code",
   "execution_count": 4,
   "id": "f9bbceaa-e0a6-4dab-a314-411724927c24",
   "metadata": {},
   "outputs": [],
   "source": [
    "x= mydata[['id']]  # Adjust if the name is different\n",
    "y= mydata['fatalties']  # Ensure this name is also correct\n"
   ]
  },
  {
   "cell_type": "code",
   "execution_count": 5,
   "id": "c7f27e60-87cb-432b-baa8-6a97278af9e7",
   "metadata": {},
   "outputs": [],
   "source": [
    "x_train, x_test, y_train, y_test = train_test_split(x, y, test_size=0.2, random_state=42)"
   ]
  },
  {
   "cell_type": "code",
   "execution_count": 6,
   "id": "ab934bb3-1330-451a-bb49-38545abe6fb6",
   "metadata": {},
   "outputs": [
    {
     "data": {
      "text/html": [
       "<style>#sk-container-id-1 {color: black;background-color: white;}#sk-container-id-1 pre{padding: 0;}#sk-container-id-1 div.sk-toggleable {background-color: white;}#sk-container-id-1 label.sk-toggleable__label {cursor: pointer;display: block;width: 100%;margin-bottom: 0;padding: 0.3em;box-sizing: border-box;text-align: center;}#sk-container-id-1 label.sk-toggleable__label-arrow:before {content: \"▸\";float: left;margin-right: 0.25em;color: #696969;}#sk-container-id-1 label.sk-toggleable__label-arrow:hover:before {color: black;}#sk-container-id-1 div.sk-estimator:hover label.sk-toggleable__label-arrow:before {color: black;}#sk-container-id-1 div.sk-toggleable__content {max-height: 0;max-width: 0;overflow: hidden;text-align: left;background-color: #f0f8ff;}#sk-container-id-1 div.sk-toggleable__content pre {margin: 0.2em;color: black;border-radius: 0.25em;background-color: #f0f8ff;}#sk-container-id-1 input.sk-toggleable__control:checked~div.sk-toggleable__content {max-height: 200px;max-width: 100%;overflow: auto;}#sk-container-id-1 input.sk-toggleable__control:checked~label.sk-toggleable__label-arrow:before {content: \"▾\";}#sk-container-id-1 div.sk-estimator input.sk-toggleable__control:checked~label.sk-toggleable__label {background-color: #d4ebff;}#sk-container-id-1 div.sk-label input.sk-toggleable__control:checked~label.sk-toggleable__label {background-color: #d4ebff;}#sk-container-id-1 input.sk-hidden--visually {border: 0;clip: rect(1px 1px 1px 1px);clip: rect(1px, 1px, 1px, 1px);height: 1px;margin: -1px;overflow: hidden;padding: 0;position: absolute;width: 1px;}#sk-container-id-1 div.sk-estimator {font-family: monospace;background-color: #f0f8ff;border: 1px dotted black;border-radius: 0.25em;box-sizing: border-box;margin-bottom: 0.5em;}#sk-container-id-1 div.sk-estimator:hover {background-color: #d4ebff;}#sk-container-id-1 div.sk-parallel-item::after {content: \"\";width: 100%;border-bottom: 1px solid gray;flex-grow: 1;}#sk-container-id-1 div.sk-label:hover label.sk-toggleable__label {background-color: #d4ebff;}#sk-container-id-1 div.sk-serial::before {content: \"\";position: absolute;border-left: 1px solid gray;box-sizing: border-box;top: 0;bottom: 0;left: 50%;z-index: 0;}#sk-container-id-1 div.sk-serial {display: flex;flex-direction: column;align-items: center;background-color: white;padding-right: 0.2em;padding-left: 0.2em;position: relative;}#sk-container-id-1 div.sk-item {position: relative;z-index: 1;}#sk-container-id-1 div.sk-parallel {display: flex;align-items: stretch;justify-content: center;background-color: white;position: relative;}#sk-container-id-1 div.sk-item::before, #sk-container-id-1 div.sk-parallel-item::before {content: \"\";position: absolute;border-left: 1px solid gray;box-sizing: border-box;top: 0;bottom: 0;left: 50%;z-index: -1;}#sk-container-id-1 div.sk-parallel-item {display: flex;flex-direction: column;z-index: 1;position: relative;background-color: white;}#sk-container-id-1 div.sk-parallel-item:first-child::after {align-self: flex-end;width: 50%;}#sk-container-id-1 div.sk-parallel-item:last-child::after {align-self: flex-start;width: 50%;}#sk-container-id-1 div.sk-parallel-item:only-child::after {width: 0;}#sk-container-id-1 div.sk-dashed-wrapped {border: 1px dashed gray;margin: 0 0.4em 0.5em 0.4em;box-sizing: border-box;padding-bottom: 0.4em;background-color: white;}#sk-container-id-1 div.sk-label label {font-family: monospace;font-weight: bold;display: inline-block;line-height: 1.2em;}#sk-container-id-1 div.sk-label-container {text-align: center;}#sk-container-id-1 div.sk-container {/* jupyter's `normalize.less` sets `[hidden] { display: none; }` but bootstrap.min.css set `[hidden] { display: none !important; }` so we also need the `!important` here to be able to override the default hidden behavior on the sphinx rendered scikit-learn.org. See: https://github.com/scikit-learn/scikit-learn/issues/21755 */display: inline-block !important;position: relative;}#sk-container-id-1 div.sk-text-repr-fallback {display: none;}</style><div id=\"sk-container-id-1\" class=\"sk-top-container\"><div class=\"sk-text-repr-fallback\"><pre>LinearRegression()</pre><b>In a Jupyter environment, please rerun this cell to show the HTML representation or trust the notebook. <br />On GitHub, the HTML representation is unable to render, please try loading this page with nbviewer.org.</b></div><div class=\"sk-container\" hidden><div class=\"sk-item\"><div class=\"sk-estimator sk-toggleable\"><input class=\"sk-toggleable__control sk-hidden--visually\" id=\"sk-estimator-id-1\" type=\"checkbox\" checked><label for=\"sk-estimator-id-1\" class=\"sk-toggleable__label sk-toggleable__label-arrow\">LinearRegression</label><div class=\"sk-toggleable__content\"><pre>LinearRegression()</pre></div></div></div></div></div>"
      ],
      "text/plain": [
       "LinearRegression()"
      ]
     },
     "execution_count": 6,
     "metadata": {},
     "output_type": "execute_result"
    }
   ],
   "source": [
    "model = LinearRegression()\n",
    "model.fit(x_train, y_train)"
   ]
  },
  {
   "cell_type": "code",
   "execution_count": 7,
   "id": "a5d9a4f7-9359-4d34-9b5c-e80158e24486",
   "metadata": {},
   "outputs": [],
   "source": [
    "y_pred = model.predict(x_test)"
   ]
  },
  {
   "cell_type": "code",
   "execution_count": 8,
   "id": "6464f6ad-dfda-4dc1-8e02-53b524a4872c",
   "metadata": {},
   "outputs": [],
   "source": [
    "from sklearn.metrics import mean_squared_error\n",
    "import joblib\n",
    "\n"
   ]
  },
  {
   "cell_type": "code",
   "execution_count": 9,
   "id": "46ba31a7-ed0d-4ba9-89dc-96d337a5a621",
   "metadata": {},
   "outputs": [
    {
     "name": "stdout",
     "output_type": "stream",
     "text": [
      "Mean Squared Error: 5508.846048521238\n"
     ]
    }
   ],
   "source": [
    "mse = mean_squared_error(y_test, y_pred)\n",
    "print(f'Mean Squared Error: {mse}')\n"
   ]
  },
  {
   "cell_type": "code",
   "execution_count": 10,
   "id": "8737971a-0615-4563-9929-6b8c5206791f",
   "metadata": {},
   "outputs": [
    {
     "data": {
      "text/plain": [
       "['Linear_regression_model.pkl']"
      ]
     },
     "execution_count": 10,
     "metadata": {},
     "output_type": "execute_result"
    }
   ],
   "source": [
    "joblib.dump(model, 'Linear_regression_model.pkl')"
   ]
  },
  {
   "cell_type": "code",
   "execution_count": 11,
   "id": "8a015fea-428f-4f4d-863b-d1574515fe01",
   "metadata": {},
   "outputs": [
    {
     "name": "stdout",
     "output_type": "stream",
     "text": [
      "Predicted Accident Severity: [70.19426752]\n"
     ]
    },
    {
     "name": "stderr",
     "output_type": "stream",
     "text": [
      "C:\\Users\\HP\\anaconda3\\Lib\\site-packages\\sklearn\\base.py:439: UserWarning: X does not have valid feature names, but LinearRegression was fitted with feature names\n",
      "  warnings.warn(\n"
     ]
    }
   ],
   "source": [
    "\n",
    "hypothetical_data = [[3]]   \n",
    "severity_prediction = model.predict(hypothetical_data)\n",
    "print(f'Predicted Accident Severity: {severity_prediction}')\n"
   ]
  },
  {
   "cell_type": "code",
   "execution_count": null,
   "id": "b10c47d5-75d1-4928-894f-9f8835decadd",
   "metadata": {},
   "outputs": [],
   "source": []
  },
  {
   "cell_type": "code",
   "execution_count": null,
   "id": "841db80f-16e0-46be-929f-f100964217e6",
   "metadata": {},
   "outputs": [],
   "source": [
    "\n"
   ]
  }
 ],
 "metadata": {
  "kernelspec": {
   "display_name": "Python 3 (ipykernel)",
   "language": "python",
   "name": "python3"
  },
  "language_info": {
   "codemirror_mode": {
    "name": "ipython",
    "version": 3
   },
   "file_extension": ".py",
   "mimetype": "text/x-python",
   "name": "python",
   "nbconvert_exporter": "python",
   "pygments_lexer": "ipython3",
   "version": "3.11.7"
  }
 },
 "nbformat": 4,
 "nbformat_minor": 5
}
